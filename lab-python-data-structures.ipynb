{
 "cells": [
  {
   "cell_type": "markdown",
   "metadata": {
    "tags": []
   },
   "source": [
    "# Lab | Data Structures "
   ]
  },
  {
   "cell_type": "markdown",
   "metadata": {},
   "source": [
    "## Exercise: Managing Customer Orders\n",
    "\n",
    "As part of a business venture, you are starting an online store that sells various products. To ensure smooth operations, you need to develop a program that manages customer orders and inventory.\n",
    "\n",
    "Follow the steps below to complete the exercise:\n",
    "\n",
    "1. Define a list called `products` that contains the following items: \"t-shirt\", \"mug\", \"hat\", \"book\", \"keychain\".\n",
    "\n",
    "2. Create an empty dictionary called `inventory`.\n",
    "\n",
    "3. Ask the user to input the quantity of each product available in the inventory. Use the product names from the `products` list as keys in the `inventory` dictionary and assign the respective quantities as values.\n",
    "\n",
    "4. Create an empty set called `customer_orders`.\n",
    "\n",
    "5. Ask the user to input the name of three products that a customer wants to order (from those in the products list, meaning three products out of \"t-shirt\", \"mug\", \"hat\", \"book\" or \"keychain\". Add each product name to the `customer_orders` set.\n",
    "\n",
    "6. Print the products in the `customer_orders` set.\n",
    "\n",
    "7. Calculate the following order statistics:\n",
    "   - Total Products Ordered: The total number of products in the `customer_orders` set.\n",
    "   - Percentage of Products Ordered: The percentage of products ordered compared to the total available products.\n",
    "   \n",
    "   Store these statistics in a tuple called `order_status`.\n",
    "\n",
    "8. Print the order statistics using the following format:\n",
    "   ```\n",
    "   Order Statistics:\n",
    "   Total Products Ordered: <total_products_ordered>\n",
    "   Percentage of Products Ordered: <percentage_ordered>% \n",
    "   ```\n",
    "\n",
    "9. Update the inventory by subtracting 1 from the quantity of each product. Modify the `inventory` dictionary accordingly.\n",
    "\n",
    "10. Print the updated inventory, displaying the quantity of each product on separate lines.\n",
    "\n",
    "Solve the exercise by implementing the steps using the Python concepts of lists, dictionaries, sets, and basic input/output operations. "
   ]
  },
  {
   "cell_type": "code",
   "execution_count": 3,
   "metadata": {},
   "outputs": [],
   "source": [
    "#A list of products.\n",
    "products = ['t-shirt', 'mug', 'book', 'keychain']"
   ]
  },
  {
   "cell_type": "code",
   "execution_count": 4,
   "metadata": {},
   "outputs": [],
   "source": [
    "#empty dictionary.\n",
    "inventory = {}"
   ]
  },
  {
   "cell_type": "code",
   "execution_count": 5,
   "metadata": {},
   "outputs": [
    {
     "name": "stdout",
     "output_type": "stream",
     "text": [
      "enter the quantity for t-shirt 4\n",
      "enter the quantity for mug 5\n",
      "enter the quantity for book3\n",
      "enter the quantity for keychain8\n",
      "inventory dictionary: {'t-shirt': 4, 'mug': 5, 'book': 3, 'keychain': 8}\n"
     ]
    }
   ],
   "source": [
    "#Using the for loop, for each product in the products list you have to ask the user to input an interger value and save it in a variable quantity. Add a key-value pair to the inventory dictionary: whereby key is; the product name and value is;the quantity entered by the user. after you are done with all products input, print the inventory dictionary.\n",
    "for product in products:\n",
    "    quantity = int(input(f\"enter the quantity for {product}\"))\n",
    "    inventory[product] = quantity\n",
    "print (\"inventory dictionary:\", inventory)"
   ]
  },
  {
   "cell_type": "code",
   "execution_count": 6,
   "metadata": {},
   "outputs": [],
   "source": [
    "#Empty set, using the set constuctors, inorder not to confuse an empty set with an empty dictionary.\n",
    "customer_orders = set()"
   ]
  },
  {
   "cell_type": "code",
   "execution_count": 7,
   "metadata": {},
   "outputs": [
    {
     "name": "stdout",
     "output_type": "stream",
     "text": [
      "Enter the name of products each customer want to order: mug\n",
      "Enter the name of products each customer want to order: t-shirt\n",
      "Enter the name of products each customer want to order: keychain\n",
      "customer orders: {'mug', 't-shirt', 'keychain'}\n"
     ]
    }
   ],
   "source": [
    "for i in range (3):\n",
    "    product = input(\"Enter the name of products each customer want to order: \")\n",
    "    if product in products: customer_orders.add(product)\n",
    "    else:\n",
    "        print(\"Invalid product name. Please enter a valid product from the list.\")\n",
    "print(\"customer orders:\", customer_orders)"
   ]
  },
  {
   "cell_type": "code",
   "execution_count": 8,
   "metadata": {},
   "outputs": [
    {
     "name": "stdout",
     "output_type": "stream",
     "text": [
      "{'mug', 't-shirt', 'keychain'}\n"
     ]
    }
   ],
   "source": [
    "print(customer_orders)"
   ]
  },
  {
   "cell_type": "code",
   "execution_count": 11,
   "metadata": {},
   "outputs": [
    {
     "name": "stdout",
     "output_type": "stream",
     "text": [
      "3\n",
      "17\n",
      "20\n"
     ]
    }
   ],
   "source": [
    "#create a new directory for products that are ordered by the customer according to the customer_orders set, in order to be able to find out the total products ordered. Also create a another directory for the available products. \n",
    "inventory_customerorder = {\"mug\":5, \"t-shirt\":4, \"keychain\": 8}\n",
    "inventory_available_products = {\"book\":3}\n",
    "\n",
    "inventory_available_p = sum(inventory_available_products.values())\n",
    "print(inventory_available_p)\n",
    "\n",
    "customer_orderstotal = sum(inventory_customerorder.values())\n",
    "print(customer_orderstotal)\n",
    "\n",
    "inventory_allproducts = sum(inventory.values())\n",
    "print(inventory_allproducts)\n",
    "    "
   ]
  },
  {
   "cell_type": "code",
   "execution_count": 13,
   "metadata": {},
   "outputs": [],
   "source": [
    "#Save the totals of available products, the customer ordered products and all products in new variables.\n",
    "#whereby x is saving results of available products and y will save the results of customer ordered products and z will save the results of all products there was in the inventory.\n",
    "x = 3\n",
    "y = 17\n",
    "z = 20\n",
    "\n",
    "#then we will calculate the percentage"
   ]
  },
  {
   "cell_type": "code",
   "execution_count": 14,
   "metadata": {},
   "outputs": [
    {
     "name": "stdout",
     "output_type": "stream",
     "text": [
      "percentage_ordered 85.0 %\n",
      "percentage available 15.0 %\n"
     ]
    }
   ],
   "source": [
    "#percentage calculations\n",
    "import math\n",
    "percentage_ordered = (y/z)*100\n",
    "print(\"percentage_ordered\", percentage_ordered,\"%\")\n",
    "\n",
    "percentage_available = (x/z)*100\n",
    "print(\"percentage available\", percentage_available,\"%\")\n",
    "\n",
    "\n"
   ]
  },
  {
   "cell_type": "code",
   "execution_count": 19,
   "metadata": {},
   "outputs": [
    {
     "name": "stdout",
     "output_type": "stream",
     "text": [
      "percentage ordered is higher than percentage available: 85.0 %\n"
     ]
    }
   ],
   "source": [
    "#Using comparisons\n",
    "#initiate variables with values\n",
    "#comparing the percentages\n",
    "import math\n",
    "o = 85\n",
    "a = 15\n",
    "if o<a:\n",
    "    print(\"percentage ordered is less than percentage available:\", percentage_ordered,\"%\")\n",
    "elif o>a:\n",
    "    print(\"percentage ordered is higher than percentage available:\", percentage_ordered,\"%\")\n",
    "    \n"
   ]
  },
  {
   "cell_type": "code",
   "execution_count": 21,
   "metadata": {},
   "outputs": [],
   "source": [
    "#create a tuple to save this statistics.\n",
    "#order status = customer ordered products, products ordered percentage.\n",
    "order_status = (17,85)"
   ]
  },
  {
   "cell_type": "code",
   "execution_count": 22,
   "metadata": {},
   "outputs": [
    {
     "name": "stdout",
     "output_type": "stream",
     "text": [
      "Order Statistics:\n",
      "Total Products Ordered: 17\n",
      "Percentage of Products Ordered: 85 %\n"
     ]
    }
   ],
   "source": [
    "#printing order statistics\n",
    "#Order statistics:\n",
    "print(\"Order Statistics:\")\n",
    "print(\"Total Products Ordered:\", order_status[0])\n",
    "print(\"Percentage of Products Ordered:\",order_status[1],\"%\")"
   ]
  },
  {
   "cell_type": "code",
   "execution_count": 23,
   "metadata": {},
   "outputs": [
    {
     "name": "stdout",
     "output_type": "stream",
     "text": [
      "{'t-shirt': 4, 'mug': 5, 'book': 3, 'keychain': 8}\n"
     ]
    }
   ],
   "source": [
    "#Update the inventory by subtracting 1 from the quantity of each product.\n",
    "#Modify the inventory dictionary accordingly.\n",
    "#first would call up the dictionary to see if it is still defined and callable\n",
    "\n",
    "print(inventory)"
   ]
  },
  {
   "cell_type": "code",
   "execution_count": 28,
   "metadata": {},
   "outputs": [
    {
     "name": "stdout",
     "output_type": "stream",
     "text": [
      "{'t-shirt': 3, 'mug': 4, 'book': 2, 'keychain': 7}\n"
     ]
    }
   ],
   "source": [
    "#updating the inventory by subtracting 1 from quantity of each product.\n",
    "#By iterating through each dictionary product and subtracting 1 from each product quantity.\n",
    "\n",
    "for product in inventory:\n",
    "    inventory[product] -= 1\n",
    "print(inventory)"
   ]
  },
  {
   "cell_type": "code",
   "execution_count": 30,
   "metadata": {},
   "outputs": [
    {
     "name": "stdout",
     "output_type": "stream",
     "text": [
      "t-shirt: 3\n",
      "mug: 4\n",
      "book: 2\n",
      "keychain: 7\n"
     ]
    }
   ],
   "source": [
    "#Print the updated inventory, displaying the quantity of each product on separate lines.\n",
    "\n",
    "for product, quantity in inventory.items ():\n",
    "    print(f\"{product}: {quantity}\")"
   ]
  }
 ],
 "metadata": {
  "kernelspec": {
   "display_name": "Python 3 (ipykernel)",
   "language": "python",
   "name": "python3"
  },
  "language_info": {
   "codemirror_mode": {
    "name": "ipython",
    "version": 3
   },
   "file_extension": ".py",
   "mimetype": "text/x-python",
   "name": "python",
   "nbconvert_exporter": "python",
   "pygments_lexer": "ipython3",
   "version": "3.9.13"
  }
 },
 "nbformat": 4,
 "nbformat_minor": 4
}
